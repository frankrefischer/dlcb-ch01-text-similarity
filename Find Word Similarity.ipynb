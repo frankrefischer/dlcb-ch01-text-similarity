{
 "cells": [
  {
   "cell_type": "code",
   "execution_count": 59,
   "metadata": {},
   "outputs": [
    {
     "name": "stderr",
     "output_type": "stream",
     "text": [
      "/Users/frank/miniconda3/envs/dlcb/lib/python3.6/importlib/_bootstrap.py:219: RuntimeWarning: numpy.ufunc size changed, may indicate binary incompatibility. Expected 192 from C header, got 216 from PyObject\n",
      "  return f(*args, **kwds)\n",
      "/Users/frank/miniconda3/envs/dlcb/lib/python3.6/importlib/_bootstrap.py:219: RuntimeWarning: numpy.ufunc size changed, may indicate binary incompatibility. Expected 216, got 192\n",
      "  return f(*args, **kwds)\n"
     ]
    }
   ],
   "source": [
    "import gzip\n",
    "import os\n",
    "import shutil\n",
    "\n",
    "import gensim\n",
    "from keras.utils import get_file"
   ]
  },
  {
   "cell_type": "code",
   "execution_count": 60,
   "metadata": {},
   "outputs": [],
   "source": [
    "def download_file_from_url_unless_in_cache(file_name, origin_url):\n",
    "    return get_file(file_name, origin_url)\n"
   ]
  },
  {
   "cell_type": "code",
   "execution_count": 61,
   "metadata": {},
   "outputs": [],
   "source": [
    "MODEL = 'GoogleNews-vectors-negative300.bin'\n",
    "ZIPPED_MODEL = MODEL+'.gz'\n",
    "ZIPPED_MODEL_URL = 'https://s3.amazonaws.com/dl4j-distribution/'+ZIPPED_MODEL"
   ]
  },
  {
   "cell_type": "code",
   "execution_count": 62,
   "metadata": {},
   "outputs": [
    {
     "data": {
      "text/plain": [
       "('GoogleNews-vectors-negative300.bin',\n",
       " 'GoogleNews-vectors-negative300.bin.gz',\n",
       " 'https://s3.amazonaws.com/dl4j-distribution/GoogleNews-vectors-negative300.bin.gz')"
      ]
     },
     "execution_count": 62,
     "metadata": {},
     "output_type": "execute_result"
    }
   ],
   "source": [
    "MODEL,ZIPPED_MODEL,ZIPPED_MODEL_URL"
   ]
  },
  {
   "cell_type": "code",
   "execution_count": 63,
   "metadata": {},
   "outputs": [
    {
     "data": {
      "text/plain": [
       "'/Users/frank/.keras/datasets/GoogleNews-vectors-negative300.bin.gz'"
      ]
     },
     "execution_count": 63,
     "metadata": {},
     "output_type": "execute_result"
    }
   ],
   "source": [
    "MODEL_ZIPPED_DOWNLOAD = download_file_from_url_unless_in_cache(ZIPPED_MODEL, ZIPPED_MODEL_URL)\n",
    "MODEL_ZIPPED_DOWNLOAD"
   ]
  },
  {
   "cell_type": "code",
   "execution_count": 64,
   "metadata": {},
   "outputs": [],
   "source": [
    "MODEL_UNZIPPED_DOWNLOAD = os.path.join('downloads', MODEL)"
   ]
  },
  {
   "cell_type": "code",
   "execution_count": 65,
   "metadata": {},
   "outputs": [],
   "source": [
    "def unzip_file_if_not_yet_unzipped(target_filepath, zipped_filepath):\n",
    "    if not os.path.isfile(target_filepath):\n",
    "        with open(target_filepath, 'wb') as f_out, gzip.open(zipped_filepath, 'rb') as f_in:\n",
    "            shutil.copyfileobj(f_in, f_out)"
   ]
  },
  {
   "cell_type": "code",
   "execution_count": 66,
   "metadata": {},
   "outputs": [],
   "source": [
    "unzip_file_if_not_yet_unzipped(MODEL_UNZIPPED_DOWNLOAD, MODEL_ZIPPED_DOWNLOAD)"
   ]
  },
  {
   "cell_type": "code",
   "execution_count": 67,
   "metadata": {},
   "outputs": [
    {
     "data": {
      "text/plain": [
       "(True, 'downloads/GoogleNews-vectors-negative300.bin')"
      ]
     },
     "execution_count": 67,
     "metadata": {},
     "output_type": "execute_result"
    }
   ],
   "source": [
    "os.path.isfile(MODEL_UNZIPPED_DOWNLOAD), MODEL_UNZIPPED_DOWNLOAD"
   ]
  },
  {
   "cell_type": "code",
   "execution_count": 68,
   "metadata": {},
   "outputs": [],
   "source": [
    "model = gensim.models.KeyedVectors.load_word2vec_format(MODEL_UNZIPPED_DOWNLOAD, binary=True)"
   ]
  },
  {
   "cell_type": "code",
   "execution_count": null,
   "metadata": {},
   "outputs": [],
   "source": [
    "model.most_similar('espresso')"
   ]
  },
  {
   "cell_type": "code",
   "execution_count": null,
   "metadata": {},
   "outputs": [],
   "source": [
    "def load_model():\n",
    "    MODEL = 'GoogleNews-vectors-negative300.bin'\n",
    "    ZIPPED_MODEL = MODEL+'.gz'\n",
    "    ZIPPED_MODEL_URL = 'https://s3.amazonaws.com/dl4j-distribution/'+ZIPPED_MODEL "
   ]
  }
 ],
 "metadata": {
  "kernelspec": {
   "display_name": "Python 3",
   "language": "python",
   "name": "python3"
  },
  "language_info": {
   "codemirror_mode": {
    "name": "ipython",
    "version": 3
   },
   "file_extension": ".py",
   "mimetype": "text/x-python",
   "name": "python",
   "nbconvert_exporter": "python",
   "pygments_lexer": "ipython3",
   "version": "3.6.8"
  }
 },
 "nbformat": 4,
 "nbformat_minor": 2
}
