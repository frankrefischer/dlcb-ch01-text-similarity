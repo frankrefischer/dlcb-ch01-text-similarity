{
 "cells": [
  {
   "cell_type": "code",
   "execution_count": 1,
   "metadata": {},
   "outputs": [
    {
     "name": "stderr",
     "output_type": "stream",
     "text": [
      "C:\\Users\\fisch\\Miniconda3\\envs\\dlcb03\\lib\\site-packages\\gensim\\utils.py:1197: UserWarning: detected Windows; aliasing chunkize to chunkize_serial\n",
      "  warnings.warn(\"detected Windows; aliasing chunkize to chunkize_serial\")\n",
      "Using TensorFlow backend.\n"
     ]
    }
   ],
   "source": [
    "import gzip\n",
    "import os\n",
    "import shutil\n",
    "\n",
    "import gensim\n",
    "from keras.utils import get_file"
   ]
  },
  {
   "cell_type": "code",
   "execution_count": 30,
   "metadata": {},
   "outputs": [],
   "source": [
    "def load_model():\n",
    "    filename = 'GoogleNews-vectors-negative300.bin'\n",
    "    filename_zipped = filename + '.gz'\n",
    "    url = 'https://s3.amazonaws.com/dl4j-distribution/' + filename_zipped\n",
    "    \n",
    "    def download_file_from_url_unless_in_cache():\n",
    "        print('downloading file: {} from url: {}'.format(filename_zipped, url) )\n",
    "        return get_file(filename_zipped, url)\n",
    "    \n",
    "    model_file_zipped = download_file_from_url_unless_in_cache()\n",
    "    model_file_unzipped = os.path.join('downloads', MODEL)\n",
    "    \n",
    "    def unzip_file_if_not_yet_unzipped():\n",
    "        print('uncompressing to file: {} from file: {}'.format(model_file_unzipped, model_file_zipped))\n",
    "        if not os.path.isfile(model_file_unzipped):\n",
    "            with open(model_file_unzipped, 'wb') as f_out, gzip.open(model_file_zipped, 'rb') as f_in:\n",
    "                shutil.copyfileobj(f_in, f_out)\n",
    " \n",
    "    unzip_file_if_not_yet_unzipped()\n",
    "        \n",
    "    def load_model():\n",
    "        print('loading model from file: {}'.format(model_file_unzipped))\n",
    "        return gensim.models.KeyedVectors.load_word2vec_format(model_file_unzipped, binary=True)\n",
    "    \n",
    "    return load_model()"
   ]
  },
  {
   "cell_type": "code",
   "execution_count": 31,
   "metadata": {},
   "outputs": [
    {
     "name": "stdout",
     "output_type": "stream",
     "text": [
      "downloading file: GoogleNews-vectors-negative300.bin from url: https://s3.amazonaws.com/dl4j-distribution/GoogleNews-vectors-negative300.bin.gz\n",
      "uncompressing to file: downloads\\GoogleNews-vectors-negative300.bin from file: C:\\Users\\fisch\\.keras\\datasets\\GoogleNews-vectors-negative300.bin\n",
      "loading model from file: downloads\\GoogleNews-vectors-negative300.bin\n"
     ]
    }
   ],
   "source": [
    "model = load_model()"
   ]
  },
  {
   "cell_type": "code",
   "execution_count": 32,
   "metadata": {},
   "outputs": [
    {
     "data": {
      "text/plain": [
       "[('cappuccino', 0.6888186931610107),\n",
       " ('mocha', 0.6686208844184875),\n",
       " ('coffee', 0.6616826057434082),\n",
       " ('latte', 0.6536753177642822),\n",
       " ('caramel_macchiato', 0.6491268873214722),\n",
       " ('ristretto', 0.6485545635223389),\n",
       " ('espressos', 0.6438628435134888),\n",
       " ('macchiato', 0.6428250074386597),\n",
       " ('chai_latte', 0.6308028697967529),\n",
       " ('espresso_cappuccino', 0.6280542612075806)]"
      ]
     },
     "execution_count": 32,
     "metadata": {},
     "output_type": "execute_result"
    }
   ],
   "source": [
    "model.most_similar('espresso')"
   ]
  },
  {
   "cell_type": "code",
   "execution_count": null,
   "metadata": {},
   "outputs": [],
   "source": []
  }
 ],
 "metadata": {
  "kernelspec": {
   "display_name": "Python 3",
   "language": "python",
   "name": "python3"
  },
  "language_info": {
   "codemirror_mode": {
    "name": "ipython",
    "version": 3
   },
   "file_extension": ".py",
   "mimetype": "text/x-python",
   "name": "python",
   "nbconvert_exporter": "python",
   "pygments_lexer": "ipython3",
   "version": "3.6.8"
  }
 },
 "nbformat": 4,
 "nbformat_minor": 2
}
