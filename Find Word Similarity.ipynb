{
 "cells": [
  {
   "cell_type": "code",
   "execution_count": 3,
   "metadata": {},
   "outputs": [
    {
     "name": "stderr",
     "output_type": "stream",
     "text": [
      "C:\\Users\\fisch\\Miniconda3\\envs\\dlcb03\\lib\\site-packages\\gensim\\utils.py:1197: UserWarning: detected Windows; aliasing chunkize to chunkize_serial\n",
      "  warnings.warn(\"detected Windows; aliasing chunkize to chunkize_serial\")\n",
      "Using TensorFlow backend.\n"
     ]
    }
   ],
   "source": [
    "import gzip\n",
    "import os\n",
    "import shutil\n",
    "\n",
    "import gensim\n",
    "from keras.utils import get_file"
   ]
  },
  {
   "cell_type": "code",
   "execution_count": 2,
   "metadata": {},
   "outputs": [],
   "source": [
    "def load_model():\n",
    "    filename = 'GoogleNews-vectors-negative300.bin'\n",
    "    filename_zipped = filename + '.gz'\n",
    "    url = 'https://s3.amazonaws.com/dl4j-distribution/' + filename_zipped\n",
    "    \n",
    "    def download_file_from_url_unless_in_cache():\n",
    "        print('downloading file: {} from url: {}'.format(filename_zipped, url) )\n",
    "        return get_file(filename_zipped, url)\n",
    "    \n",
    "    model_file_zipped = download_file_from_url_unless_in_cache()\n",
    "    model_file_unzipped = os.path.join('downloads', filename)\n",
    "    \n",
    "    def unzip_file_if_not_yet_unzipped():\n",
    "        print('uncompressing to file: {} from file: {}'.format(model_file_unzipped, model_file_zipped))\n",
    "        if not os.path.isfile(model_file_unzipped):\n",
    "            with open(model_file_unzipped, 'wb') as f_out, gzip.open(model_file_zipped, 'rb') as f_in:\n",
    "                shutil.copyfileobj(f_in, f_out)\n",
    " \n",
    "    unzip_file_if_not_yet_unzipped()\n",
    "        \n",
    "    def load_model():\n",
    "        print('loading model from file: {}'.format(model_file_unzipped))\n",
    "        return gensim.models.KeyedVectors.load_word2vec_format(model_file_unzipped, binary=True)\n",
    "    \n",
    "    return load_model()\n",
    "\n"
   ]
  },
  {
   "cell_type": "code",
   "execution_count": 3,
   "metadata": {},
   "outputs": [
    {
     "name": "stdout",
     "output_type": "stream",
     "text": [
      "downloading file: GoogleNews-vectors-negative300.bin.gz from url: https://s3.amazonaws.com/dl4j-distribution/GoogleNews-vectors-negative300.bin.gz\n",
      "uncompressing to file: downloads\\GoogleNews-vectors-negative300.bin from file: C:\\Users\\fisch\\.keras\\datasets\\GoogleNews-vectors-negative300.bin.gz\n",
      "loading model from file: downloads\\GoogleNews-vectors-negative300.bin\n"
     ]
    }
   ],
   "source": [
    "model = load_model()"
   ]
  },
  {
   "cell_type": "code",
   "execution_count": 4,
   "metadata": {},
   "outputs": [
    {
     "data": {
      "text/plain": [
       "[('cappuccino', 0.6888186931610107),\n",
       " ('mocha', 0.6686208844184875),\n",
       " ('coffee', 0.6616826057434082),\n",
       " ('latte', 0.6536753177642822),\n",
       " ('caramel_macchiato', 0.6491268873214722),\n",
       " ('ristretto', 0.6485545635223389),\n",
       " ('espressos', 0.6438628435134888),\n",
       " ('macchiato', 0.6428250074386597),\n",
       " ('chai_latte', 0.6308028697967529),\n",
       " ('espresso_cappuccino', 0.6280542612075806)]"
      ]
     },
     "execution_count": 4,
     "metadata": {},
     "output_type": "execute_result"
    }
   ],
   "source": [
    "model.most_similar('espresso')"
   ]
  },
  {
   "cell_type": "code",
   "execution_count": 5,
   "metadata": {},
   "outputs": [],
   "source": [
    "# man(A) - woman(B) = king(C) -x\n",
    "\n",
    "# woman - man = x - king\n",
    "# x = woman(B) + king(C) - man(A)\n",
    "# X = B + C - A"
   ]
  },
  {
   "cell_type": "code",
   "execution_count": 6,
   "metadata": {},
   "outputs": [],
   "source": [
    "a, b, c = 'man', 'woman', 'king'"
   ]
  },
  {
   "cell_type": "code",
   "execution_count": 10,
   "metadata": {},
   "outputs": [
    {
     "data": {
      "text/plain": [
       "[('queen', 0.7118192911148071)]"
      ]
     },
     "execution_count": 10,
     "metadata": {},
     "output_type": "execute_result"
    }
   ],
   "source": [
    "model.most_similar(positive=(b,c), negative=(a,), topn=1)"
   ]
  },
  {
   "cell_type": "code",
   "execution_count": 20,
   "metadata": {},
   "outputs": [],
   "source": [
    "def A_is_to_B_as_C_is_to(a, b, c, topn=1):\n",
    "    def to_list(x):\n",
    "        return x if type(x) == list else [x]\n",
    "    a,b,c = map(to_list, (a,b,c))\n",
    "    \n",
    "    topn_x = model.most_similar(b + c, a, topn=topn)\n",
    "    if len(topn_x) == 0:\n",
    "        return None\n",
    "    if len(topn_x) == 1:\n",
    "        return topn_x[0][0]\n",
    "    return [x[0] for x in topn_x]"
   ]
  },
  {
   "cell_type": "code",
   "execution_count": 21,
   "metadata": {},
   "outputs": [
    {
     "data": {
      "text/plain": [
       "'queen'"
      ]
     },
     "execution_count": 21,
     "metadata": {},
     "output_type": "execute_result"
    }
   ],
   "source": [
    "A_is_to_B_as_C_is_to('man', 'woman', 'king')"
   ]
  },
  {
   "cell_type": "code",
   "execution_count": 25,
   "metadata": {},
   "outputs": [
    {
     "data": {
      "text/plain": [
       "'woman'"
      ]
     },
     "execution_count": 25,
     "metadata": {},
     "output_type": "execute_result"
    }
   ],
   "source": [
    "A_is_to_B_as_C_is_to('dog', 'cat', 'man')"
   ]
  },
  {
   "cell_type": "code",
   "execution_count": 46,
   "metadata": {},
   "outputs": [
    {
     "name": "stdout",
     "output_type": "stream",
     "text": [
      "Ottawa is the capital of Canada\n",
      "Paris is the capital of France\n",
      "Kiev is the capital of Ukraine\n",
      "Rome is the capital of Italy\n"
     ]
    }
   ],
   "source": [
    "for country in ('Canada', 'France','Ukraine','Italy'):\n",
    "    capital = A_is_to_B_as_C_is_to('Germany', 'Berlin', country)\n",
    "    print('{} is the capital of {}'.format(capital, country))"
   ]
  },
  {
   "cell_type": "code",
   "execution_count": 69,
   "metadata": {},
   "outputs": [
    {
     "name": "stdout",
     "output_type": "stream",
     "text": [
      "The product of Google is ['personalized_homepage', 'app', 'Gmail']\n",
      "The product of IBM is ['DB2', 'WebSphere_Portal', 'Tamino_XML_Server']\n",
      "The product of Boeing is ['Dreamliner', 'airframe', 'aircraft']\n",
      "The product of Microsoft is ['Windows_Mobile', 'SyncMate', 'Windows']\n",
      "The product of Samsung is ['MM_A###', 'handset', 'Samsung_SCH_B###']\n",
      "The product of VW is ['Dacia_Logan', 'Volkswagen', 'roadster']\n",
      "The product of Mafia is ['mafioso', 'mafia', 'boss_Sam_Giancana']\n"
     ]
    }
   ],
   "source": [
    "for company in 'Google', 'IBM','Boeing','Microsoft', 'Samsung', 'VW', 'Mafia':\n",
    "    products = A_is_to_B_as_C_is_to(['Starbucks','Apple'], ['Starbucks_coffee','iPhone'], company, topn=3)\n",
    "    print('The product of {} is {}'.format(company, products))"
   ]
  },
  {
   "cell_type": "code",
   "execution_count": 82,
   "metadata": {},
   "outputs": [
    {
     "data": {
      "text/plain": [
       "['Barack_Obama',\n",
       " 'Barack',\n",
       " 'Clinton',\n",
       " 'President_Barack_Obama',\n",
       " 'Illinois_senator',\n",
       " 'McCain',\n",
       " 'Biden',\n",
       " 'Bill_Clinton']"
      ]
     },
     "execution_count": 82,
     "metadata": {},
     "output_type": "execute_result"
    }
   ],
   "source": [
    "A_is_to_B_as_C_is_to('Putin','Yeltsin','Obama', topn=8)"
   ]
  },
  {
   "cell_type": "code",
   "execution_count": null,
   "metadata": {},
   "outputs": [],
   "source": [
    "http://cloud.devmount.de/d2bc5672c523b086"
   ]
  },
  {
   "cell_type": "code",
   "execution_count": 80,
   "metadata": {},
   "outputs": [],
   "source": [
    "def load_german_model():\n",
    "    filename = 'word2vec_german_devmount.model'\n",
    "    url = 'http://cloud.devmount.de/d2bc5672c523b086/german.model'\n",
    "    \n",
    "    def download_file_from_url_unless_in_cache():\n",
    "        print('downloading file: {} from url: {}'.format(filename, url) )\n",
    "        return get_file(filename, url)\n",
    "    \n",
    "    model_file = download_file_from_url_unless_in_cache()\n",
    "    \n",
    "    def load_model():\n",
    "        print('loading model from file: {}'.format(model_file))\n",
    "        return gensim.models.KeyedVectors.load_word2vec_format(model_file, binary=True)\n",
    "    \n",
    "    return load_model()\n",
    "\n"
   ]
  },
  {
   "cell_type": "code",
   "execution_count": 81,
   "metadata": {},
   "outputs": [
    {
     "name": "stdout",
     "output_type": "stream",
     "text": [
      "downloading file: word2vec_german_devmount.model from url: http://cloud.devmount.de/d2bc5672c523b086/german.model\n",
      "Downloading data from http://cloud.devmount.de/d2bc5672c523b086/german.model\n",
      "738041856/738037646 [==============================] - 59s 0us/step\n",
      "loading model from file: C:\\Users\\fisch\\.keras\\datasets\\word2vec_german_devmount.model\n"
     ]
    }
   ],
   "source": [
    "german = load_german_model()"
   ]
  },
  {
   "cell_type": "code",
   "execution_count": 82,
   "metadata": {},
   "outputs": [],
   "source": [
    "class Model:\n",
    "    def __init__(self, model):\n",
    "        self.model = model\n",
    "        \n",
    "    def A_is_to_B_as_C_is_to(self, a, b, c, topn=1):\n",
    "        def to_list(x):\n",
    "            return x if type(x) == list else [x]\n",
    "        a,b,c = map(to_list, (a,b,c))\n",
    "\n",
    "        topn_x = self.model.most_similar(b + c, a, topn=topn)\n",
    "        if len(topn_x) == 0:\n",
    "            return None\n",
    "        if len(topn_x) == 1:\n",
    "            return topn_x[0][0]\n",
    "        return [x[0] for x in topn_x]"
   ]
  },
  {
   "cell_type": "code",
   "execution_count": 83,
   "metadata": {},
   "outputs": [],
   "source": [
    "model = Model(german)"
   ]
  },
  {
   "cell_type": "code",
   "execution_count": 84,
   "metadata": {},
   "outputs": [
    {
     "data": {
      "text/plain": [
       "'Bursche'"
      ]
     },
     "execution_count": 84,
     "metadata": {},
     "output_type": "execute_result"
    }
   ],
   "source": [
    "model.A_is_to_B_as_C_is_to('Haus', 'Garten', 'Mann')"
   ]
  },
  {
   "cell_type": "code",
   "execution_count": 93,
   "metadata": {},
   "outputs": [
    {
     "name": "stdout",
     "output_type": "stream",
     "text": [
      "Kanzlerin ist das Staatsoberhaupt von Kanada\n",
      "Merkel ist das Staatsoberhaupt von Frankreich\n",
      "Janukowitsch ist das Staatsoberhaupt von Ukraine\n",
      "Monti ist das Staatsoberhaupt von Italien\n"
     ]
    }
   ],
   "source": [
    "for land in ('Kanada', 'Frankreich','Ukraine','Italien'):\n",
    "    staatsoberhaupt = model.A_is_to_B_as_C_is_to('Deutschland', 'Angela_Merkel', land)\n",
    "    print('{} ist das Staatsoberhaupt von {}'.format(staatsoberhaupt, land))"
   ]
  },
  {
   "cell_type": "code",
   "execution_count": 129,
   "metadata": {},
   "outputs": [
    {
     "data": {
      "text/plain": [
       "'erfahrener'"
      ]
     },
     "execution_count": 129,
     "metadata": {},
     "output_type": "execute_result"
    }
   ],
   "source": [
    "model.A_is_to_B_as_C_is_to(['Frau','Maedchen','Oma'], ['Mann','Junge','Opa'], ['Hebamme'])"
   ]
  },
  {
   "cell_type": "code",
   "execution_count": 134,
   "metadata": {},
   "outputs": [
    {
     "name": "stderr",
     "output_type": "stream",
     "text": [
      "C:\\Users\\fisch\\Miniconda3\\envs\\dlcb03\\lib\\site-packages\\gensim\\models\\keyedvectors.py:730: FutureWarning: arrays to stack must be passed as a \"sequence\" type such as list or tuple. Support for non-sequence iterables such as generators is deprecated as of NumPy 1.16 and will raise an error in the future.\n",
      "  vectors = vstack(self.word_vec(word, use_norm=True) for word in used_words).astype(REAL)\n"
     ]
    },
    {
     "data": {
      "text/plain": [
       "'Kueken'"
      ]
     },
     "execution_count": 134,
     "metadata": {},
     "output_type": "execute_result"
    }
   ],
   "source": [
    "german.doesnt_match(['Mann','Bulle','Kueken'])"
   ]
  },
  {
   "cell_type": "code",
   "execution_count": 136,
   "metadata": {},
   "outputs": [
    {
     "data": {
      "text/plain": [
       "[('Aerztin', 0.7699185609817505),\n",
       " ('Krankenschwester', 0.7651543021202087),\n",
       " ('Kinderkrankenschwester', 0.7281628251075745),\n",
       " ('Frauenaerztin', 0.7241747379302979),\n",
       " ('Kinderaerztin', 0.7229164838790894),\n",
       " ('Hausaerztin', 0.720133364200592),\n",
       " ('Ergotherapeutin', 0.7135937213897705),\n",
       " ('Zahnaerztin', 0.70682692527771),\n",
       " ('Krankenpflegerin', 0.7021933197975159),\n",
       " ('Arzthelferin', 0.7011792659759521)]"
      ]
     },
     "execution_count": 136,
     "metadata": {},
     "output_type": "execute_result"
    }
   ],
   "source": [
    "german.similar_by_word('Hebamme')"
   ]
  },
  {
   "cell_type": "code",
   "execution_count": 172,
   "metadata": {},
   "outputs": [
    {
     "data": {
      "text/plain": [
       "[('Nemetschek_AG', 0.6830635070800781),\n",
       " ('Spedition_Logistik', 0.6829559803009033),\n",
       " ('herstellerunabhaengige', 0.6825460195541382),\n",
       " ('IT-Dienstleisters', 0.6813675165176392),\n",
       " ('Electronic_Banking', 0.6805779337882996),\n",
       " ('bundesweit_taetigen', 0.6782735586166382),\n",
       " ('Softwareanbieter', 0.6772146821022034),\n",
       " ('Renewables', 0.6726152896881104),\n",
       " ('Dienstleistungen_Bereichen', 0.6687685251235962),\n",
       " ('MCE', 0.6681452989578247)]"
      ]
     },
     "execution_count": 172,
     "metadata": {},
     "output_type": "execute_result"
    }
   ],
   "source": [
    "german.most_similar('DATEV')"
   ]
  },
  {
   "cell_type": "code",
   "execution_count": 178,
   "metadata": {},
   "outputs": [
    {
     "name": "stdout",
     "output_type": "stream",
     "text": [
      "Siemens produziert ['Bruckneudorf', 'M17', 'Messfahrzeug', 'S31', 'Raststation']\n",
      "BMW produziert ['Quad', 'Motorrad', 'Fahrzeug', 'Moped', 'Leitschiene']\n",
      "Airbus produziert ['Flugzeug', 'F-4', 'Super_Puma', 'Lande-', 'Start_Landung']\n",
      "Telekom produziert ['Mobilfunknetz', 'Basisstation', 'Relaisstation', 'Bruckneudorf', 'Telefonnetz']\n",
      "DATEV produziert ['Emergency_Response', 'IPS', 'Lage-', 'Messfahrzeug', 'Operations_Center']\n"
     ]
    }
   ],
   "source": [
    "for firma in 'Siemens', 'BMW','Airbus','Telekom', 'DATEV':\n",
    "    produkte = model.A_is_to_B_as_C_is_to(['Opel','Suhrkamp','Buecher'], ['Auto'], firma, topn=5)\n",
    "    print('{} produziert {}'.format(firma, produkte))"
   ]
  },
  {
   "cell_type": "code",
   "execution_count": 191,
   "metadata": {},
   "outputs": [
    {
     "data": {
      "text/plain": [
       "True"
      ]
     },
     "execution_count": 191,
     "metadata": {},
     "output_type": "execute_result"
    }
   ],
   "source": [
    "\"ha\" in \"aha\""
   ]
  },
  {
   "cell_type": "code",
   "execution_count": 183,
   "metadata": {},
   "outputs": [],
   "source": [
    "worte = list(german.vocab.keys())"
   ]
  },
  {
   "cell_type": "code",
   "execution_count": 192,
   "metadata": {},
   "outputs": [
    {
     "data": {
      "text/plain": [
       "['DATEV']"
      ]
     },
     "execution_count": 192,
     "metadata": {},
     "output_type": "execute_result"
    }
   ],
   "source": [
    " [w for w in worte if \"DATEV\" in w]"
   ]
  },
  {
   "cell_type": "code",
   "execution_count": 205,
   "metadata": {},
   "outputs": [
    {
     "data": {
      "text/plain": [
       "'Franz_Beckenbauer'"
      ]
     },
     "execution_count": 205,
     "metadata": {},
     "output_type": "execute_result"
    }
   ],
   "source": [
    "model.A_is_to_B_as_C_is_to('Tarantino','Riefenstahl', 'Beckenbauer')"
   ]
  },
  {
   "cell_type": "code",
   "execution_count": null,
   "metadata": {},
   "outputs": [],
   "source": []
  }
 ],
 "metadata": {
  "kernelspec": {
   "display_name": "Python 3",
   "language": "python",
   "name": "python3"
  },
  "language_info": {
   "codemirror_mode": {
    "name": "ipython",
    "version": 3
   },
   "file_extension": ".py",
   "mimetype": "text/x-python",
   "name": "python",
   "nbconvert_exporter": "python",
   "pygments_lexer": "ipython3",
   "version": "3.6.8"
  }
 },
 "nbformat": 4,
 "nbformat_minor": 2
}
